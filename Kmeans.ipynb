{
  "nbformat": 4,
  "nbformat_minor": 0,
  "metadata": {
    "colab": {
      "name": "Kmeans.ipynb",
      "provenance": [],
      "authorship_tag": "ABX9TyMoieW7diWg9CtuWUbFaxF6",
      "include_colab_link": true
    },
    "kernelspec": {
      "name": "python3",
      "display_name": "Python 3"
    },
    "language_info": {
      "name": "python"
    }
  },
  "cells": [
    {
      "cell_type": "markdown",
      "metadata": {
        "id": "view-in-github",
        "colab_type": "text"
      },
      "source": [
        "<a href=\"https://colab.research.google.com/github/Yash-Kamtekar/Clustering-techniques/blob/main/Kmeans.ipynb\" target=\"_parent\"><img src=\"https://colab.research.google.com/assets/colab-badge.svg\" alt=\"Open In Colab\"/></a>"
      ]
    },
    {
      "cell_type": "markdown",
      "metadata": {
        "id": "dUJ57V-iLIX4"
      },
      "source": [
        "# **K-Means clustering**"
      ]
    },
    {
      "cell_type": "markdown",
      "metadata": {
        "id": "eoTAFZifAE_s"
      },
      "source": [
        "import libraries."
      ]
    },
    {
      "cell_type": "code",
      "metadata": {
        "id": "vgQ6BZCM18QI"
      },
      "source": [
        "from google.colab import drive\n",
        "import pandas as pd\n",
        "import matplotlib.pyplot as plt"
      ],
      "execution_count": 55,
      "outputs": []
    },
    {
      "cell_type": "markdown",
      "metadata": {
        "id": "VRvOtDJ_Cug-"
      },
      "source": [
        "mounting drive"
      ]
    },
    {
      "cell_type": "code",
      "metadata": {
        "colab": {
          "base_uri": "https://localhost:8080/"
        },
        "id": "yGfT-Eg2194A",
        "outputId": "8d9ca311-1eb6-4b4f-aa9d-b711098e6ba2"
      },
      "source": [
        "drive.mount(\"/content/drive\")"
      ],
      "execution_count": 56,
      "outputs": [
        {
          "output_type": "stream",
          "name": "stdout",
          "text": [
            "Drive already mounted at /content/drive; to attempt to forcibly remount, call drive.mount(\"/content/drive\", force_remount=True).\n"
          ]
        }
      ]
    },
    {
      "cell_type": "markdown",
      "metadata": {
        "id": "xxqQI3DyAHsr"
      },
      "source": [
        "import data from google drive using pandas"
      ]
    },
    {
      "cell_type": "code",
      "metadata": {
        "colab": {
          "base_uri": "https://localhost:8080/",
          "height": 582
        },
        "id": "lx9r3Qn32BQH",
        "outputId": "12aae178-a10c-4583-bad4-6482c8f8d6c0"
      },
      "source": [
        "df = pd.read_csv('/content/drive/MyDrive/255/Assignment_4/shopping.csv')\n",
        "df"
      ],
      "execution_count": 57,
      "outputs": [
        {
          "output_type": "execute_result",
          "data": {
            "text/html": [
              "<div>\n",
              "<style scoped>\n",
              "    .dataframe tbody tr th:only-of-type {\n",
              "        vertical-align: middle;\n",
              "    }\n",
              "\n",
              "    .dataframe tbody tr th {\n",
              "        vertical-align: top;\n",
              "    }\n",
              "\n",
              "    .dataframe thead th {\n",
              "        text-align: right;\n",
              "    }\n",
              "</style>\n",
              "<table border=\"1\" class=\"dataframe\">\n",
              "  <thead>\n",
              "    <tr style=\"text-align: right;\">\n",
              "      <th></th>\n",
              "      <th>Shopper</th>\n",
              "      <th>Spending Index</th>\n",
              "      <th>Income Index</th>\n",
              "    </tr>\n",
              "  </thead>\n",
              "  <tbody>\n",
              "    <tr>\n",
              "      <th>0</th>\n",
              "      <td>1</td>\n",
              "      <td>3</td>\n",
              "      <td>5</td>\n",
              "    </tr>\n",
              "    <tr>\n",
              "      <th>1</th>\n",
              "      <td>2</td>\n",
              "      <td>3</td>\n",
              "      <td>4</td>\n",
              "    </tr>\n",
              "    <tr>\n",
              "      <th>2</th>\n",
              "      <td>3</td>\n",
              "      <td>5</td>\n",
              "      <td>6</td>\n",
              "    </tr>\n",
              "    <tr>\n",
              "      <th>3</th>\n",
              "      <td>4</td>\n",
              "      <td>2</td>\n",
              "      <td>6</td>\n",
              "    </tr>\n",
              "    <tr>\n",
              "      <th>4</th>\n",
              "      <td>5</td>\n",
              "      <td>4</td>\n",
              "      <td>5</td>\n",
              "    </tr>\n",
              "    <tr>\n",
              "      <th>5</th>\n",
              "      <td>6</td>\n",
              "      <td>6</td>\n",
              "      <td>8</td>\n",
              "    </tr>\n",
              "    <tr>\n",
              "      <th>6</th>\n",
              "      <td>7</td>\n",
              "      <td>6</td>\n",
              "      <td>2</td>\n",
              "    </tr>\n",
              "    <tr>\n",
              "      <th>7</th>\n",
              "      <td>8</td>\n",
              "      <td>6</td>\n",
              "      <td>3</td>\n",
              "    </tr>\n",
              "    <tr>\n",
              "      <th>8</th>\n",
              "      <td>9</td>\n",
              "      <td>5</td>\n",
              "      <td>6</td>\n",
              "    </tr>\n",
              "    <tr>\n",
              "      <th>9</th>\n",
              "      <td>10</td>\n",
              "      <td>6</td>\n",
              "      <td>7</td>\n",
              "    </tr>\n",
              "    <tr>\n",
              "      <th>10</th>\n",
              "      <td>11</td>\n",
              "      <td>7</td>\n",
              "      <td>2</td>\n",
              "    </tr>\n",
              "    <tr>\n",
              "      <th>11</th>\n",
              "      <td>12</td>\n",
              "      <td>8</td>\n",
              "      <td>5</td>\n",
              "    </tr>\n",
              "    <tr>\n",
              "      <th>12</th>\n",
              "      <td>13</td>\n",
              "      <td>9</td>\n",
              "      <td>1</td>\n",
              "    </tr>\n",
              "    <tr>\n",
              "      <th>13</th>\n",
              "      <td>14</td>\n",
              "      <td>8</td>\n",
              "      <td>2</td>\n",
              "    </tr>\n",
              "    <tr>\n",
              "      <th>14</th>\n",
              "      <td>15</td>\n",
              "      <td>9</td>\n",
              "      <td>6</td>\n",
              "    </tr>\n",
              "    <tr>\n",
              "      <th>15</th>\n",
              "      <td>16</td>\n",
              "      <td>9</td>\n",
              "      <td>1</td>\n",
              "    </tr>\n",
              "    <tr>\n",
              "      <th>16</th>\n",
              "      <td>17</td>\n",
              "      <td>8</td>\n",
              "      <td>3</td>\n",
              "    </tr>\n",
              "  </tbody>\n",
              "</table>\n",
              "</div>"
            ],
            "text/plain": [
              "    Shopper  Spending Index  Income Index\n",
              "0         1               3             5\n",
              "1         2               3             4\n",
              "2         3               5             6\n",
              "3         4               2             6\n",
              "4         5               4             5\n",
              "5         6               6             8\n",
              "6         7               6             2\n",
              "7         8               6             3\n",
              "8         9               5             6\n",
              "9        10               6             7\n",
              "10       11               7             2\n",
              "11       12               8             5\n",
              "12       13               9             1\n",
              "13       14               8             2\n",
              "14       15               9             6\n",
              "15       16               9             1\n",
              "16       17               8             3"
            ]
          },
          "metadata": {},
          "execution_count": 57
        }
      ]
    },
    {
      "cell_type": "markdown",
      "metadata": {
        "id": "MtL0uzDYAMJr"
      },
      "source": [
        "just keeping Spending Index & Income Index values in the data frame"
      ]
    },
    {
      "cell_type": "code",
      "metadata": {
        "id": "Qj9ZZlcI2ElQ"
      },
      "source": [
        "df = df[['Spending Index', 'Income Index']]"
      ],
      "execution_count": 58,
      "outputs": []
    },
    {
      "cell_type": "markdown",
      "metadata": {
        "id": "h-DLm3RdAWlY"
      },
      "source": [
        "visualise the data"
      ]
    },
    {
      "cell_type": "code",
      "metadata": {
        "colab": {
          "base_uri": "https://localhost:8080/",
          "height": 279
        },
        "id": "kyZskUq0651N",
        "outputId": "cba26a57-148c-4571-b9b4-59c9e2131ccd"
      },
      "source": [
        "plt.scatter(df['Spending Index'], df['Income Index'])\n",
        "plt.xlabel('Spending Index')\n",
        "plt.ylabel('Income Index')\n",
        "plt.show()"
      ],
      "execution_count": 59,
      "outputs": [
        {
          "output_type": "display_data",
          "data": {
            "image/png": "[encoded data removed]",
            "text/plain": [
              "<Figure size 432x288 with 1 Axes>"
            ]
          },
          "metadata": {
            "needs_background": "light"
          }
        }
      ]
    },
    {
      "cell_type": "markdown",
      "metadata": {
        "id": "rEXBUJINAkdm"
      },
      "source": [
        "Elbow Plot\n",
        "\n",
        "The technique to determine K, the number of clusters."
      ]
    },
    {
      "cell_type": "code",
      "metadata": {
        "colab": {
          "base_uri": "https://localhost:8080/",
          "height": 330
        },
        "id": "u2QNLxOG12yC",
        "outputId": "ac262a8d-7444-499a-c83b-334944e25029"
      },
      "source": [
        "from sklearn.cluster import KMeans\n",
        "\n",
        "wcss=[]\n",
        "for i in range(1, len(df)):\n",
        "    kmeans=KMeans(n_clusters = i)\n",
        "    kmeans.fit(df)\n",
        "    wcss.append(kmeans.inertia_)\n",
        "\n",
        "plt.plot(range(1, len(df)), wcss)\n",
        "plt.title('The Elbow Method')\n",
        "plt.xlabel('Number of Clusters')\n",
        "plt.ylabel('WCSS')\n",
        "plt.show()"
      ],
      "execution_count": 60,
      "outputs": [
        {
          "output_type": "stream",
          "name": "stderr",
          "text": [
            "/usr/local/lib/python3.7/dist-packages/ipykernel_launcher.py:6: ConvergenceWarning: Number of distinct clusters (15) found smaller than n_clusters (16). Possibly due to duplicate points in X.\n",
            "  \n"
          ]
        },
        {
          "output_type": "display_data",
          "data": {
            "image/png": "[encoded data removed]",
            "text/plain": [
              "<Figure size 432x288 with 1 Axes>"
            ]
          },
          "metadata": {
            "needs_background": "light"
          }
        }
      ]
    },
    {
      "cell_type": "markdown",
      "metadata": {
        "id": "NZC6lXdhB3Xc"
      },
      "source": [
        "lets visualise for k = 3"
      ]
    },
    {
      "cell_type": "code",
      "metadata": {
        "colab": {
          "base_uri": "https://localhost:8080/"
        },
        "id": "so5xvDqL57jX",
        "outputId": "c6ea9faa-5a19-4b1d-dc2d-8ab576179218"
      },
      "source": [
        "kmeans = KMeans(n_clusters = 3)\n",
        "y_predicted = kmeans.fit_predict(df)\n",
        "y_predicted"
      ],
      "execution_count": 61,
      "outputs": [
        {
          "output_type": "execute_result",
          "data": {
            "text/plain": [
              "array([0, 0, 0, 0, 0, 1, 2, 2, 0, 1, 2, 1, 2, 2, 1, 2, 2], dtype=int32)"
            ]
          },
          "metadata": {},
          "execution_count": 61
        }
      ]
    },
    {
      "cell_type": "code",
      "metadata": {
        "colab": {
          "base_uri": "https://localhost:8080/",
          "height": 295
        },
        "id": "Uk9P6z8C53GK",
        "outputId": "b5aa734f-9b80-4ea0-a126-1e049fffc92b"
      },
      "source": [
        "plt.scatter(df[y_predicted == 0]['Spending Index'], df[y_predicted == 0]['Income Index'], s = 100, c = 'red', label = 'Cluster 1')\n",
        "plt.scatter(df[y_predicted == 1]['Spending Index'], df[y_predicted == 1]['Income Index'], s = 100, c = 'blue', label = 'Cluster 2')\n",
        "plt.scatter(df[y_predicted == 2]['Spending Index'], df[y_predicted == 2]['Income Index'], s = 100, c = 'green', label = 'Cluster 3')\n",
        "plt.scatter(kmeans.cluster_centers_[:, 0], kmeans.cluster_centers_[:, 1], s = 300, c = 'yellow', label = 'Centroids')\n",
        "plt.title('Clusters')\n",
        "plt.ylabel('Spending Index')\n",
        "plt.xlabel('Income Index')\n",
        "plt.legend()\n",
        "plt.show()"
      ],
      "execution_count": 62,
      "outputs": [
        {
          "output_type": "display_data",
          "data": {
            "image/png": "[encoded data removed]",
            "text/plain": [
              "<Figure size 432x288 with 1 Axes>"
            ]
          },
          "metadata": {
            "needs_background": "light"
          }
        }
      ]
    }
  ]
}